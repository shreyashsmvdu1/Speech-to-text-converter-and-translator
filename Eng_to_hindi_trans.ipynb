{
  "nbformat": 4,
  "nbformat_minor": 0,
  "metadata": {
    "colab": {
      "name": "Eng to hindi trans.ipynb",
      "provenance": [],
      "collapsed_sections": []
    },
    "kernelspec": {
      "name": "python3",
      "display_name": "Python 3"
    },
    "language_info": {
      "name": "python"
    },
    "accelerator": "GPU"
  },
  "cells": [
    {
      "cell_type": "code",
      "metadata": {
        "colab": {
          "base_uri": "https://localhost:8080/"
        },
        "id": "DQA73MxMzJ2b",
        "outputId": "c9d790fa-a31c-4e8f-bb03-33dbc0cf0e05"
      },
      "source": [
        "from google.colab import drive\n",
        "drive.mount('/content/drive')\n"
      ],
      "execution_count": null,
      "outputs": [
        {
          "output_type": "stream",
          "name": "stdout",
          "text": [
            "Mounted at /content/drive\n"
          ]
        }
      ]
    },
    {
      "cell_type": "code",
      "metadata": {
        "colab": {
          "base_uri": "https://localhost:8080/",
          "height": 54
        },
        "id": "rdCGFFnrzKdc",
        "outputId": "a6c05454-589b-4611-da4d-2060707c09dc"
      },
      "source": [
        "\"\"\"!mkdir /content/drive/MyDrive/hindi_english\n",
        "!unzip /content/drive/MyDrive/Hindi_English_Truncated_Corpus.csv.zip -d /content/drive/MyDrive/hindi_english\"\"\""
      ],
      "execution_count": null,
      "outputs": [
        {
          "output_type": "execute_result",
          "data": {
            "application/vnd.google.colaboratory.intrinsic+json": {
              "type": "string"
            },
            "text/plain": [
              "'!mkdir /content/drive/MyDrive/hindi_english\\n!unzip /content/drive/MyDrive/Hindi_English_Truncated_Corpus.csv.zip -d /content/drive/MyDrive/hindi_english'"
            ]
          },
          "metadata": {},
          "execution_count": 3
        }
      ]
    },
    {
      "cell_type": "code",
      "metadata": {
        "colab": {
          "base_uri": "https://localhost:8080/"
        },
        "id": "7mPJ6Ir30yuR",
        "outputId": "02d4d1aa-c693-451b-c399-631de3aa08f4"
      },
      "source": [
        "import numpy as np\n",
        "import pandas as pd\n",
        "import matplotlib.pyplot as plt\n",
        "%matplotlib inline\n",
        "import re\n",
        "import seaborn as sns\n",
        "from sklearn.utils import shuffle\n",
        "from sklearn.model_selection import train_test_split\n",
        "from keras.layers import Input, LSTM, Embedding, Dense\n",
        "from keras.models import Model\n",
        "pd.set_option('display.max_rows', 500)\n",
        "pd.set_option('display.max_columns', 500)\n",
        "pd.set_option('display.width', 1000)\n",
        "pd.set_option('display.max_colwidth', -1)\n",
        "lines=pd.read_csv(\"/content/drive/MyDrive/hindi_english/Hindi_English_Truncated_Corpus.csv\")"
      ],
      "execution_count": null,
      "outputs": [
        {
          "output_type": "stream",
          "name": "stderr",
          "text": [
            "/usr/local/lib/python3.7/dist-packages/ipykernel_launcher.py:14: FutureWarning: Passing a negative integer is deprecated in version 1.0 and will not be supported in future version. Instead, use None to not limit the column width.\n",
            "  \n"
          ]
        }
      ]
    },
    {
      "cell_type": "code",
      "metadata": {
        "colab": {
          "base_uri": "https://localhost:8080/",
          "height": 589
        },
        "id": "wFxFTFYmONQL",
        "outputId": "8ce73261-7998-4a63-a98f-c8d9276eb091"
      },
      "source": [
        "lines"
      ],
      "execution_count": null,
      "outputs": [
        {
          "output_type": "execute_result",
          "data": {
            "text/html": [
              "\n",
              "  <div id=\"df-8db55966-a7fc-42c5-bd76-032186a673bf\">\n",
              "    <div class=\"colab-df-container\">\n",
              "      <div>\n",
              "<style scoped>\n",
              "    .dataframe tbody tr th:only-of-type {\n",
              "        vertical-align: middle;\n",
              "    }\n",
              "\n",
              "    .dataframe tbody tr th {\n",
              "        vertical-align: top;\n",
              "    }\n",
              "\n",
              "    .dataframe thead th {\n",
              "        text-align: right;\n",
              "    }\n",
              "</style>\n",
              "<table border=\"1\" class=\"dataframe\">\n",
              "  <thead>\n",
              "    <tr style=\"text-align: right;\">\n",
              "      <th></th>\n",
              "      <th>source</th>\n",
              "      <th>english_sentence</th>\n",
              "      <th>hindi_sentence</th>\n",
              "      <th>length_eng_sentence</th>\n",
              "      <th>length_hin_sentence</th>\n",
              "    </tr>\n",
              "  </thead>\n",
              "  <tbody>\n",
              "    <tr>\n",
              "      <th>37863</th>\n",
              "      <td>ted</td>\n",
              "      <td>it seems that with or without us</td>\n",
              "      <td>START_ हमारे साथ या हमारे बिना भी _END</td>\n",
              "      <td>7</td>\n",
              "      <td>8</td>\n",
              "    </tr>\n",
              "    <tr>\n",
              "      <th>83895</th>\n",
              "      <td>tides</td>\n",
              "      <td>getting help</td>\n",
              "      <td>START_ सहायता प्राप्त करना _END</td>\n",
              "      <td>2</td>\n",
              "      <td>5</td>\n",
              "    </tr>\n",
              "    <tr>\n",
              "      <th>46957</th>\n",
              "      <td>ted</td>\n",
              "      <td>so that their children too can live those lives of great purpose</td>\n",
              "      <td>START_ जिससे कि उनके बच्चे भी किसी उद्देश्य या प्रयोजन से भरा जीवन जी सकें। _END</td>\n",
              "      <td>12</td>\n",
              "      <td>16</td>\n",
              "    </tr>\n",
              "    <tr>\n",
              "      <th>60041</th>\n",
              "      <td>ted</td>\n",
              "      <td>so im excited about how i can bring the technology to the masses</td>\n",
              "      <td>START_ तो मैं बहुत उत्सुक हूँ कि कैसे मैं इस तकनीक को आम लोगों तक पहुँचा सकूँ _END</td>\n",
              "      <td>13</td>\n",
              "      <td>18</td>\n",
              "    </tr>\n",
              "    <tr>\n",
              "      <th>120175</th>\n",
              "      <td>tides</td>\n",
              "      <td>the sudra is like a servant to the brahman taking care of his affairs and serving him</td>\n",
              "      <td>START_ शूद्र ब्राह्मण के सेवकजैसा होता है जो उसके कामकाज की देखभाल और उसकी सेवा करता है _END</td>\n",
              "      <td>17</td>\n",
              "      <td>18</td>\n",
              "    </tr>\n",
              "    <tr>\n",
              "      <th>...</th>\n",
              "      <td>...</td>\n",
              "      <td>...</td>\n",
              "      <td>...</td>\n",
              "      <td>...</td>\n",
              "      <td>...</td>\n",
              "    </tr>\n",
              "    <tr>\n",
              "      <th>71869</th>\n",
              "      <td>tides</td>\n",
              "      <td>i have always been acting independently without having cared for your approval or disapproval ”</td>\n",
              "      <td>START_ मैं आपकी सहमति या असहमति के बिना यहां स्वतंत्रतापूर्वक काम करता रहा हूं ” _END</td>\n",
              "      <td>15</td>\n",
              "      <td>16</td>\n",
              "    </tr>\n",
              "    <tr>\n",
              "      <th>63342</th>\n",
              "      <td>ted</td>\n",
              "      <td>but what makes voodoo so interesting</td>\n",
              "      <td>START_ लेकिन क्या चीज जादूटोने को इतना रूचिकारक बनाती है _END</td>\n",
              "      <td>6</td>\n",
              "      <td>11</td>\n",
              "    </tr>\n",
              "    <tr>\n",
              "      <th>29935</th>\n",
              "      <td>indic2012</td>\n",
              "      <td>listen here</td>\n",
              "      <td>START_ यहां सुनियेः _END</td>\n",
              "      <td>2</td>\n",
              "      <td>4</td>\n",
              "    </tr>\n",
              "    <tr>\n",
              "      <th>111449</th>\n",
              "      <td>indic2012</td>\n",
              "      <td>long time prevalent belief of its purification has scientific proof</td>\n",
              "      <td>START_ लंबे समय से प्रचलित इसकी शुद्धीकरण की मान्यता का वैज्ञानिक आधार भी है। _END</td>\n",
              "      <td>10</td>\n",
              "      <td>15</td>\n",
              "    </tr>\n",
              "    <tr>\n",
              "      <th>14774</th>\n",
              "      <td>ted</td>\n",
              "      <td>and these social entrepreneurs</td>\n",
              "      <td>START_ और ये सामाजिक उद्यमी _END</td>\n",
              "      <td>4</td>\n",
              "      <td>6</td>\n",
              "    </tr>\n",
              "  </tbody>\n",
              "</table>\n",
              "<p>66853 rows × 5 columns</p>\n",
              "</div>\n",
              "      <button class=\"colab-df-convert\" onclick=\"convertToInteractive('df-8db55966-a7fc-42c5-bd76-032186a673bf')\"\n",
              "              title=\"Convert this dataframe to an interactive table.\"\n",
              "              style=\"display:none;\">\n",
              "        \n",
              "  <svg xmlns=\"http://www.w3.org/2000/svg\" height=\"24px\"viewBox=\"0 0 24 24\"\n",
              "       width=\"24px\">\n",
              "    <path d=\"M0 0h24v24H0V0z\" fill=\"none\"/>\n",
              "    <path d=\"M18.56 5.44l.94 2.06.94-2.06 2.06-.94-2.06-.94-.94-2.06-.94 2.06-2.06.94zm-11 1L8.5 8.5l.94-2.06 2.06-.94-2.06-.94L8.5 2.5l-.94 2.06-2.06.94zm10 10l.94 2.06.94-2.06 2.06-.94-2.06-.94-.94-2.06-.94 2.06-2.06.94z\"/><path d=\"M17.41 7.96l-1.37-1.37c-.4-.4-.92-.59-1.43-.59-.52 0-1.04.2-1.43.59L10.3 9.45l-7.72 7.72c-.78.78-.78 2.05 0 2.83L4 21.41c.39.39.9.59 1.41.59.51 0 1.02-.2 1.41-.59l7.78-7.78 2.81-2.81c.8-.78.8-2.07 0-2.86zM5.41 20L4 18.59l7.72-7.72 1.47 1.35L5.41 20z\"/>\n",
              "  </svg>\n",
              "      </button>\n",
              "      \n",
              "  <style>\n",
              "    .colab-df-container {\n",
              "      display:flex;\n",
              "      flex-wrap:wrap;\n",
              "      gap: 12px;\n",
              "    }\n",
              "\n",
              "    .colab-df-convert {\n",
              "      background-color: #E8F0FE;\n",
              "      border: none;\n",
              "      border-radius: 50%;\n",
              "      cursor: pointer;\n",
              "      display: none;\n",
              "      fill: #1967D2;\n",
              "      height: 32px;\n",
              "      padding: 0 0 0 0;\n",
              "      width: 32px;\n",
              "    }\n",
              "\n",
              "    .colab-df-convert:hover {\n",
              "      background-color: #E2EBFA;\n",
              "      box-shadow: 0px 1px 2px rgba(60, 64, 67, 0.3), 0px 1px 3px 1px rgba(60, 64, 67, 0.15);\n",
              "      fill: #174EA6;\n",
              "    }\n",
              "\n",
              "    [theme=dark] .colab-df-convert {\n",
              "      background-color: #3B4455;\n",
              "      fill: #D2E3FC;\n",
              "    }\n",
              "\n",
              "    [theme=dark] .colab-df-convert:hover {\n",
              "      background-color: #434B5C;\n",
              "      box-shadow: 0px 1px 3px 1px rgba(0, 0, 0, 0.15);\n",
              "      filter: drop-shadow(0px 1px 2px rgba(0, 0, 0, 0.3));\n",
              "      fill: #FFFFFF;\n",
              "    }\n",
              "  </style>\n",
              "\n",
              "      <script>\n",
              "        const buttonEl =\n",
              "          document.querySelector('#df-8db55966-a7fc-42c5-bd76-032186a673bf button.colab-df-convert');\n",
              "        buttonEl.style.display =\n",
              "          google.colab.kernel.accessAllowed ? 'block' : 'none';\n",
              "\n",
              "        async function convertToInteractive(key) {\n",
              "          const element = document.querySelector('#df-8db55966-a7fc-42c5-bd76-032186a673bf');\n",
              "          const dataTable =\n",
              "            await google.colab.kernel.invokeFunction('convertToInteractive',\n",
              "                                                     [key], {});\n",
              "          if (!dataTable) return;\n",
              "\n",
              "          const docLinkHtml = 'Like what you see? Visit the ' +\n",
              "            '<a target=\"_blank\" href=https://colab.research.google.com/notebooks/data_table.ipynb>data table notebook</a>'\n",
              "            + ' to learn more about interactive tables.';\n",
              "          element.innerHTML = '';\n",
              "          dataTable['output_type'] = 'display_data';\n",
              "          await google.colab.output.renderOutput(dataTable, element);\n",
              "          const docLink = document.createElement('div');\n",
              "          docLink.innerHTML = docLinkHtml;\n",
              "          element.appendChild(docLink);\n",
              "        }\n",
              "      </script>\n",
              "    </div>\n",
              "  </div>\n",
              "  "
            ],
            "text/plain": [
              "           source                                                                                 english_sentence                                                                                hindi_sentence  length_eng_sentence  length_hin_sentence\n",
              "37863   ted        it seems that with or without us                                                                 START_ हमारे साथ या हमारे बिना भी _END                                                        7                    8                  \n",
              "83895   tides      getting help                                                                                     START_ सहायता प्राप्त करना _END                                                               2                    5                  \n",
              "46957   ted        so that their children too can live those lives of great purpose                                 START_ जिससे कि उनके बच्चे भी किसी उद्देश्य या प्रयोजन से भरा जीवन जी सकें। _END              12                   16                 \n",
              "60041   ted        so im excited about how i can bring the technology to the masses                                 START_ तो मैं बहुत उत्सुक हूँ कि कैसे मैं इस तकनीक को आम लोगों तक पहुँचा सकूँ _END            13                   18                 \n",
              "120175  tides      the sudra is like a servant to the brahman taking care of his affairs and serving him            START_ शूद्र ब्राह्मण के सेवकजैसा होता है जो उसके कामकाज की देखभाल और उसकी सेवा करता है _END  17                   18                 \n",
              "...       ...                                                                                        ...                                                                                                     ...  ..                   ..                 \n",
              "71869   tides      i have always been acting independently without having cared for your approval or disapproval ”  START_ मैं आपकी सहमति या असहमति के बिना यहां स्वतंत्रतापूर्वक काम करता रहा हूं ” _END         15                   16                 \n",
              "63342   ted        but what makes voodoo so interesting                                                             START_ लेकिन क्या चीज जादूटोने को इतना रूचिकारक बनाती है _END                                 6                    11                 \n",
              "29935   indic2012  listen here                                                                                      START_ यहां सुनियेः _END                                                                      2                    4                  \n",
              "111449  indic2012  long time prevalent belief of its purification has scientific proof                              START_ लंबे समय से प्रचलित इसकी शुद्धीकरण की मान्यता का वैज्ञानिक आधार भी है। _END            10                   15                 \n",
              "14774   ted        and these social entrepreneurs                                                                   START_ और ये सामाजिक उद्यमी _END                                                              4                    6                  \n",
              "\n",
              "[66853 rows x 5 columns]"
            ]
          },
          "metadata": {},
          "execution_count": 52
        }
      ]
    },
    {
      "cell_type": "markdown",
      "metadata": {
        "id": "ILa7aEABmFQs"
      },
      "source": [
        "# removing null english and hindi lines"
      ]
    },
    {
      "cell_type": "code",
      "metadata": {
        "id": "yPAlpcdmMAC3"
      },
      "source": [
        "lines=lines[~pd.isnull(lines['english_sentence'])]\n",
        "lines=lines[~pd.isnull(lines['hindi_sentence'])]"
      ],
      "execution_count": null,
      "outputs": []
    },
    {
      "cell_type": "markdown",
      "metadata": {
        "id": "tuVVNlSlmML3"
      },
      "source": [
        "# selectimng random 100000 samples"
      ]
    },
    {
      "cell_type": "code",
      "metadata": {
        "colab": {
          "base_uri": "https://localhost:8080/"
        },
        "id": "5WAvBkHvOLjV",
        "outputId": "c44eef75-1bb4-444d-cac3-e6a39c5f70a9"
      },
      "source": [
        "lines=lines.sample(n=100000,random_state=42)\n",
        "lines.shape"
      ],
      "execution_count": null,
      "outputs": [
        {
          "output_type": "execute_result",
          "data": {
            "text/plain": [
              "(100000, 3)"
            ]
          },
          "metadata": {},
          "execution_count": 6
        }
      ]
    },
    {
      "cell_type": "code",
      "metadata": {
        "id": "ieUQHniIOiCX"
      },
      "source": [
        "lines['english_sentence']=lines['english_sentence'].apply(lambda x: x.lower())\n",
        "lines['hindi_sentence']=lines['hindi_sentence'].apply(lambda x: x.lower())\n",
        "lines['english_sentence']=lines['english_sentence'].apply(lambda x: re.sub(\"'\", '', x))\n",
        "lines['hindi_sentence']=lines['hindi_sentence'].apply(lambda x: re.sub(\"'\", '', x))"
      ],
      "execution_count": null,
      "outputs": []
    },
    {
      "cell_type": "code",
      "metadata": {
        "id": "J71WF-dcOmA-"
      },
      "source": [
        "import string\n",
        "ex = set(string.punctuation)\n",
        "lines['english_sentence']=lines['english_sentence'].apply(lambda x: ''.join(ch for ch in x if ch not in ex))\n",
        "lines['hindi_sentence']=lines['hindi_sentence'].apply(lambda x: ''.join(ch for ch in x if ch not in ex))"
      ],
      "execution_count": null,
      "outputs": []
    },
    {
      "cell_type": "code",
      "metadata": {
        "id": "y0QnYv6FO7ym"
      },
      "source": [
        "digits='1234567890'\n",
        "remove_digits = str.maketrans('', '', digits)\n",
        "lines['english_sentence']=lines['english_sentence'].apply(lambda x: x.translate(remove_digits))\n",
        "lines['hindi_sentence']=lines['hindi_sentence'].apply(lambda x: x.translate(remove_digits))\n",
        "\n",
        "lines['hindi_sentence'] = lines['hindi_sentence'].apply(lambda x: re.sub(\"[२३०८१५७९४६]\", \"\", x))\n"
      ],
      "execution_count": null,
      "outputs": []
    },
    {
      "cell_type": "code",
      "metadata": {
        "colab": {
          "base_uri": "https://localhost:8080/"
        },
        "id": "gqvm2gk4RGt-",
        "outputId": "219a99c8-7a9f-40fd-a6bd-a7a3f615a4d7"
      },
      "source": [
        "lines.shape"
      ],
      "execution_count": null,
      "outputs": [
        {
          "output_type": "execute_result",
          "data": {
            "text/plain": [
              "(100000, 3)"
            ]
          },
          "metadata": {},
          "execution_count": 10
        }
      ]
    },
    {
      "cell_type": "code",
      "metadata": {
        "id": "8BZgj5GfR3_u"
      },
      "source": [
        "lines['english_sentence']=lines['english_sentence'].apply(lambda x: x.strip())\n",
        "lines['hindi_sentence']=lines['hindi_sentence'].apply(lambda x: x.strip())\n",
        "lines['english_sentence']=lines['english_sentence'].apply(lambda x: re.sub(\" +\", \" \", x))\n",
        "lines['hindi_sentence']=lines['hindi_sentence'].apply(lambda x: re.sub(\" +\", \" \", x))"
      ],
      "execution_count": null,
      "outputs": []
    },
    {
      "cell_type": "code",
      "metadata": {
        "id": "THK4K9UTR-5N"
      },
      "source": [
        "lines['hindi_sentence'] = lines['hindi_sentence'].apply(lambda x : 'START_ '+ x + ' _END')"
      ],
      "execution_count": null,
      "outputs": []
    },
    {
      "cell_type": "code",
      "metadata": {
        "colab": {
          "base_uri": "https://localhost:8080/",
          "height": 607
        },
        "id": "J0RZD17eSDkn",
        "outputId": "79ee7220-3f97-4b3c-f984-dd5122a78a9c"
      },
      "source": [
        "lines"
      ],
      "execution_count": null,
      "outputs": [
        {
          "output_type": "execute_result",
          "data": {
            "text/html": [
              "\n",
              "  <div id=\"df-c2d99366-0210-45e8-be4f-aa274a4d602c\">\n",
              "    <div class=\"colab-df-container\">\n",
              "      <div>\n",
              "<style scoped>\n",
              "    .dataframe tbody tr th:only-of-type {\n",
              "        vertical-align: middle;\n",
              "    }\n",
              "\n",
              "    .dataframe tbody tr th {\n",
              "        vertical-align: top;\n",
              "    }\n",
              "\n",
              "    .dataframe thead th {\n",
              "        text-align: right;\n",
              "    }\n",
              "</style>\n",
              "<table border=\"1\" class=\"dataframe\">\n",
              "  <thead>\n",
              "    <tr style=\"text-align: right;\">\n",
              "      <th></th>\n",
              "      <th>source</th>\n",
              "      <th>english_sentence</th>\n",
              "      <th>hindi_sentence</th>\n",
              "    </tr>\n",
              "  </thead>\n",
              "  <tbody>\n",
              "    <tr>\n",
              "      <th>3556</th>\n",
              "      <td>tides</td>\n",
              "      <td>he declares the result and reports it to the election commission and to the secretarygeneral of the concerned house</td>\n",
              "      <td>START_ वही परिणाम की घोषणा करता है और निर्वाचन आयोग को और संबद्ध सदन के महासचिव को उसकी सूचना देता है _END</td>\n",
              "    </tr>\n",
              "    <tr>\n",
              "      <th>25899</th>\n",
              "      <td>ted</td>\n",
              "      <td>was a little uncomfortable for them</td>\n",
              "      <td>START_ थोडा कठिन था। _END</td>\n",
              "    </tr>\n",
              "    <tr>\n",
              "      <th>90924</th>\n",
              "      <td>tides</td>\n",
              "      <td>a multipurpose auditorium a branch of the state bank of india a large banquet hall private dining rooms and refreshment rooms including a milk bar are also located on the ground floor</td>\n",
              "      <td>START_ बहुउद्देशीय सभागार भारतीय स्टेट बैंक की शाखा एक विशाल बैंकट हाल प्राइवेट डाइनिंग रूम और जलपान गृह भी जिनमें एक मिल्क बार सम्मिलित है भूमि तल पर उपस्थित हैं _END</td>\n",
              "    </tr>\n",
              "    <tr>\n",
              "      <th>78213</th>\n",
              "      <td>tides</td>\n",
              "      <td>no fees is to be paid for filing the appeal to this tribunal</td>\n",
              "      <td>START_ अधिकरण में अपील करने के लिए कोई फीस नहीं देनी पड़ती _END</td>\n",
              "    </tr>\n",
              "    <tr>\n",
              "      <th>96955</th>\n",
              "      <td>indic2012</td>\n",
              "      <td>headind kaun banega crorepati</td>\n",
              "      <td>START_ शीर्षक कौन बनेगा करोड़पति kaun banega crorepati _END</td>\n",
              "    </tr>\n",
              "    <tr>\n",
              "      <th>...</th>\n",
              "      <td>...</td>\n",
              "      <td>...</td>\n",
              "      <td>...</td>\n",
              "    </tr>\n",
              "    <tr>\n",
              "      <th>75226</th>\n",
              "      <td>indic2012</td>\n",
              "      <td>he left kashi for magahar and he died there only in</td>\n",
              "      <td>START_ काशी छोड़ मगहर चले गये और सन् के आस पास वहीं देह त्याग किया। _END</td>\n",
              "    </tr>\n",
              "    <tr>\n",
              "      <th>18651</th>\n",
              "      <td>indic2012</td>\n",
              "      <td>pakistan muslim leag</td>\n",
              "      <td>START_ पाकिस्तान मुस्लिम लीग _END</td>\n",
              "    </tr>\n",
              "    <tr>\n",
              "      <th>35035</th>\n",
              "      <td>tides</td>\n",
              "      <td>minerals minerals such as magnesium copper and zinc are receiving increasing attention from researchers for their effect on heart disease obesity is defined as being about per cent of your ideal body weight as judged from tables provided lrb see appendix rrb</td>\n",
              "      <td>START_ खनिज हृदय रोग पर अपने प्रभाव के लिए मैग़्नीशियम तांबा और जिंक जैसे खनिज अनुसंधानकर्ताओं का लगातार ज़्यादा ध्यान आकर्षित कर रहे हैंशारीरिक भार पर नियंत्रण दी गयी सारणियों परिशिष्ट के आधार पर आपके शरीर के आदर्श भार से प्रतिशत अधिक भार को मोटापा _END</td>\n",
              "    </tr>\n",
              "    <tr>\n",
              "      <th>105680</th>\n",
              "      <td>ted</td>\n",
              "      <td>and over time we have grown into a network of five hospitals</td>\n",
              "      <td>START_ और धीरेधीरे हम पाँच अस्पतालों के समूह में विकसित हो गये _END</td>\n",
              "    </tr>\n",
              "    <tr>\n",
              "      <th>18499</th>\n",
              "      <td>ted</td>\n",
              "      <td>ethical dilemma and value conflicts and management research</td>\n",
              "      <td>START_ सामाजिकविज्ञान में निहित मूल्यों की लडाई और नैतिक विरोधाभासों को _END</td>\n",
              "    </tr>\n",
              "  </tbody>\n",
              "</table>\n",
              "<p>100000 rows × 3 columns</p>\n",
              "</div>\n",
              "      <button class=\"colab-df-convert\" onclick=\"convertToInteractive('df-c2d99366-0210-45e8-be4f-aa274a4d602c')\"\n",
              "              title=\"Convert this dataframe to an interactive table.\"\n",
              "              style=\"display:none;\">\n",
              "        \n",
              "  <svg xmlns=\"http://www.w3.org/2000/svg\" height=\"24px\"viewBox=\"0 0 24 24\"\n",
              "       width=\"24px\">\n",
              "    <path d=\"M0 0h24v24H0V0z\" fill=\"none\"/>\n",
              "    <path d=\"M18.56 5.44l.94 2.06.94-2.06 2.06-.94-2.06-.94-.94-2.06-.94 2.06-2.06.94zm-11 1L8.5 8.5l.94-2.06 2.06-.94-2.06-.94L8.5 2.5l-.94 2.06-2.06.94zm10 10l.94 2.06.94-2.06 2.06-.94-2.06-.94-.94-2.06-.94 2.06-2.06.94z\"/><path d=\"M17.41 7.96l-1.37-1.37c-.4-.4-.92-.59-1.43-.59-.52 0-1.04.2-1.43.59L10.3 9.45l-7.72 7.72c-.78.78-.78 2.05 0 2.83L4 21.41c.39.39.9.59 1.41.59.51 0 1.02-.2 1.41-.59l7.78-7.78 2.81-2.81c.8-.78.8-2.07 0-2.86zM5.41 20L4 18.59l7.72-7.72 1.47 1.35L5.41 20z\"/>\n",
              "  </svg>\n",
              "      </button>\n",
              "      \n",
              "  <style>\n",
              "    .colab-df-container {\n",
              "      display:flex;\n",
              "      flex-wrap:wrap;\n",
              "      gap: 12px;\n",
              "    }\n",
              "\n",
              "    .colab-df-convert {\n",
              "      background-color: #E8F0FE;\n",
              "      border: none;\n",
              "      border-radius: 50%;\n",
              "      cursor: pointer;\n",
              "      display: none;\n",
              "      fill: #1967D2;\n",
              "      height: 32px;\n",
              "      padding: 0 0 0 0;\n",
              "      width: 32px;\n",
              "    }\n",
              "\n",
              "    .colab-df-convert:hover {\n",
              "      background-color: #E2EBFA;\n",
              "      box-shadow: 0px 1px 2px rgba(60, 64, 67, 0.3), 0px 1px 3px 1px rgba(60, 64, 67, 0.15);\n",
              "      fill: #174EA6;\n",
              "    }\n",
              "\n",
              "    [theme=dark] .colab-df-convert {\n",
              "      background-color: #3B4455;\n",
              "      fill: #D2E3FC;\n",
              "    }\n",
              "\n",
              "    [theme=dark] .colab-df-convert:hover {\n",
              "      background-color: #434B5C;\n",
              "      box-shadow: 0px 1px 3px 1px rgba(0, 0, 0, 0.15);\n",
              "      filter: drop-shadow(0px 1px 2px rgba(0, 0, 0, 0.3));\n",
              "      fill: #FFFFFF;\n",
              "    }\n",
              "  </style>\n",
              "\n",
              "      <script>\n",
              "        const buttonEl =\n",
              "          document.querySelector('#df-c2d99366-0210-45e8-be4f-aa274a4d602c button.colab-df-convert');\n",
              "        buttonEl.style.display =\n",
              "          google.colab.kernel.accessAllowed ? 'block' : 'none';\n",
              "\n",
              "        async function convertToInteractive(key) {\n",
              "          const element = document.querySelector('#df-c2d99366-0210-45e8-be4f-aa274a4d602c');\n",
              "          const dataTable =\n",
              "            await google.colab.kernel.invokeFunction('convertToInteractive',\n",
              "                                                     [key], {});\n",
              "          if (!dataTable) return;\n",
              "\n",
              "          const docLinkHtml = 'Like what you see? Visit the ' +\n",
              "            '<a target=\"_blank\" href=https://colab.research.google.com/notebooks/data_table.ipynb>data table notebook</a>'\n",
              "            + ' to learn more about interactive tables.';\n",
              "          element.innerHTML = '';\n",
              "          dataTable['output_type'] = 'display_data';\n",
              "          await google.colab.output.renderOutput(dataTable, element);\n",
              "          const docLink = document.createElement('div');\n",
              "          docLink.innerHTML = docLinkHtml;\n",
              "          element.appendChild(docLink);\n",
              "        }\n",
              "      </script>\n",
              "    </div>\n",
              "  </div>\n",
              "  "
            ],
            "text/plain": [
              "           source                                                                                                                                                                                                                                                    english_sentence                                                                                                                                                                                                                                                  hindi_sentence\n",
              "3556    tides      he declares the result and reports it to the election commission and to the secretarygeneral of the concerned house                                                                                                                                                 START_ वही परिणाम की घोषणा करता है और निर्वाचन आयोग को और संबद्ध सदन के महासचिव को उसकी सूचना देता है _END                                                                                                                                                    \n",
              "25899   ted        was a little uncomfortable for them                                                                                                                                                                                                                                 START_ थोडा कठिन था। _END                                                                                                                                                                                                                                     \n",
              "90924   tides      a multipurpose auditorium a branch of the state bank of india a large banquet hall private dining rooms and refreshment rooms including a milk bar are also located on the ground floor                                                                             START_ बहुउद्देशीय सभागार भारतीय स्टेट बैंक की शाखा एक विशाल बैंकट हाल प्राइवेट डाइनिंग रूम और जलपान गृह भी जिनमें एक मिल्क बार सम्मिलित है भूमि तल पर उपस्थित हैं _END                                                                                       \n",
              "78213   tides      no fees is to be paid for filing the appeal to this tribunal                                                                                                                                                                                                        START_ अधिकरण में अपील करने के लिए कोई फीस नहीं देनी पड़ती _END                                                                                                                                                                                               \n",
              "96955   indic2012  headind kaun banega crorepati                                                                                                                                                                                                                                       START_ शीर्षक कौन बनेगा करोड़पति kaun banega crorepati _END                                                                                                                                                                                                   \n",
              "...           ...                            ...                                                                                                                                                                                                                                                                                               ...                                                                                                                                                                                                   \n",
              "75226   indic2012  he left kashi for magahar and he died there only in                                                                                                                                                                                                                 START_ काशी छोड़ मगहर चले गये और सन् के आस पास वहीं देह त्याग किया। _END                                                                                                                                                                                      \n",
              "18651   indic2012  pakistan muslim leag                                                                                                                                                                                                                                                START_ पाकिस्तान मुस्लिम लीग _END                                                                                                                                                                                                                             \n",
              "35035   tides      minerals minerals such as magnesium copper and zinc are receiving increasing attention from researchers for their effect on heart disease obesity is defined as being about per cent of your ideal body weight as judged from tables provided lrb see appendix rrb  START_ खनिज हृदय रोग पर अपने प्रभाव के लिए मैग़्नीशियम तांबा और जिंक जैसे खनिज अनुसंधानकर्ताओं का लगातार ज़्यादा ध्यान आकर्षित कर रहे हैंशारीरिक भार पर नियंत्रण दी गयी सारणियों परिशिष्ट के आधार पर आपके शरीर के आदर्श भार से प्रतिशत अधिक भार को मोटापा _END\n",
              "105680  ted        and over time we have grown into a network of five hospitals                                                                                                                                                                                                        START_ और धीरेधीरे हम पाँच अस्पतालों के समूह में विकसित हो गये _END                                                                                                                                                                                           \n",
              "18499   ted        ethical dilemma and value conflicts and management research                                                                                                                                                                                                         START_ सामाजिकविज्ञान में निहित मूल्यों की लडाई और नैतिक विरोधाभासों को _END                                                                                                                                                                                  \n",
              "\n",
              "[100000 rows x 3 columns]"
            ]
          },
          "metadata": {},
          "execution_count": 13
        }
      ]
    },
    {
      "cell_type": "code",
      "metadata": {
        "id": "BCfFK5nHSIzV"
      },
      "source": [
        "all_eng_words=set()\n",
        "for eng in lines['english_sentence']:\n",
        "    for word in eng.split():\n",
        "        if word not in all_eng_words:\n",
        "            all_eng_words.add(word)\n",
        "\n",
        "all_hindi_words=set()\n",
        "for hin in lines['hindi_sentence']:\n",
        "    for word in hin.split():\n",
        "        if word not in all_hindi_words:\n",
        "            all_hindi_words.add(word)"
      ],
      "execution_count": null,
      "outputs": []
    },
    {
      "cell_type": "code",
      "metadata": {
        "colab": {
          "base_uri": "https://localhost:8080/"
        },
        "id": "w2Hv1ZKHSbGe",
        "outputId": "b02d60d3-84fe-47e2-9e09-afe966ea10b2"
      },
      "source": [
        "len(all_eng_words)"
      ],
      "execution_count": null,
      "outputs": [
        {
          "output_type": "execute_result",
          "data": {
            "text/plain": [
              "64017"
            ]
          },
          "metadata": {},
          "execution_count": 15
        }
      ]
    },
    {
      "cell_type": "code",
      "metadata": {
        "colab": {
          "base_uri": "https://localhost:8080/"
        },
        "id": "f-3KM6IISehW",
        "outputId": "d0962955-5eed-456b-96b1-ea0bed3d201d"
      },
      "source": [
        "len(all_hindi_words)"
      ],
      "execution_count": null,
      "outputs": [
        {
          "output_type": "execute_result",
          "data": {
            "text/plain": [
              "72923"
            ]
          },
          "metadata": {},
          "execution_count": 16
        }
      ]
    },
    {
      "cell_type": "code",
      "metadata": {
        "id": "ZMocpVp_Siye"
      },
      "source": [
        "lines['length_eng_sentence']=lines['english_sentence'].apply(lambda x:len(x.split(\" \")))\n",
        "lines['length_hin_sentence']=lines['hindi_sentence'].apply(lambda x:len(x.split(\" \")))"
      ],
      "execution_count": null,
      "outputs": []
    },
    {
      "cell_type": "code",
      "metadata": {
        "colab": {
          "base_uri": "https://localhost:8080/"
        },
        "id": "SV4V7wzdTF4F",
        "outputId": "04efae92-abe5-413c-dc68-daa633057f3c"
      },
      "source": [
        "lines[lines['length_eng_sentence']>30].shape"
      ],
      "execution_count": null,
      "outputs": [
        {
          "output_type": "execute_result",
          "data": {
            "text/plain": [
              "(9547, 5)"
            ]
          },
          "metadata": {},
          "execution_count": 18
        }
      ]
    },
    {
      "cell_type": "code",
      "metadata": {
        "colab": {
          "base_uri": "https://localhost:8080/",
          "height": 728
        },
        "id": "yP2gYkmlTE2O",
        "outputId": "06fb31a3-3f03-4ab6-b207-b8ce3c71a60c"
      },
      "source": [
        "lines"
      ],
      "execution_count": null,
      "outputs": [
        {
          "output_type": "execute_result",
          "data": {
            "text/html": [
              "\n",
              "  <div id=\"df-2fb42f18-ff37-4d6f-acf8-ef657c7dd9c0\">\n",
              "    <div class=\"colab-df-container\">\n",
              "      <div>\n",
              "<style scoped>\n",
              "    .dataframe tbody tr th:only-of-type {\n",
              "        vertical-align: middle;\n",
              "    }\n",
              "\n",
              "    .dataframe tbody tr th {\n",
              "        vertical-align: top;\n",
              "    }\n",
              "\n",
              "    .dataframe thead th {\n",
              "        text-align: right;\n",
              "    }\n",
              "</style>\n",
              "<table border=\"1\" class=\"dataframe\">\n",
              "  <thead>\n",
              "    <tr style=\"text-align: right;\">\n",
              "      <th></th>\n",
              "      <th>source</th>\n",
              "      <th>english_sentence</th>\n",
              "      <th>hindi_sentence</th>\n",
              "      <th>length_eng_sentence</th>\n",
              "      <th>length_hin_sentence</th>\n",
              "    </tr>\n",
              "  </thead>\n",
              "  <tbody>\n",
              "    <tr>\n",
              "      <th>3556</th>\n",
              "      <td>tides</td>\n",
              "      <td>he declares the result and reports it to the election commission and to the secretarygeneral of the concerned house</td>\n",
              "      <td>START_ वही परिणाम की घोषणा करता है और निर्वाचन आयोग को और संबद्ध सदन के महासचिव को उसकी सूचना देता है _END</td>\n",
              "      <td>19</td>\n",
              "      <td>22</td>\n",
              "    </tr>\n",
              "    <tr>\n",
              "      <th>25899</th>\n",
              "      <td>ted</td>\n",
              "      <td>was a little uncomfortable for them</td>\n",
              "      <td>START_ थोडा कठिन था। _END</td>\n",
              "      <td>6</td>\n",
              "      <td>5</td>\n",
              "    </tr>\n",
              "    <tr>\n",
              "      <th>90924</th>\n",
              "      <td>tides</td>\n",
              "      <td>a multipurpose auditorium a branch of the state bank of india a large banquet hall private dining rooms and refreshment rooms including a milk bar are also located on the ground floor</td>\n",
              "      <td>START_ बहुउद्देशीय सभागार भारतीय स्टेट बैंक की शाखा एक विशाल बैंकट हाल प्राइवेट डाइनिंग रूम और जलपान गृह भी जिनमें एक मिल्क बार सम्मिलित है भूमि तल पर उपस्थित हैं _END</td>\n",
              "      <td>32</td>\n",
              "      <td>31</td>\n",
              "    </tr>\n",
              "    <tr>\n",
              "      <th>78213</th>\n",
              "      <td>tides</td>\n",
              "      <td>no fees is to be paid for filing the appeal to this tribunal</td>\n",
              "      <td>START_ अधिकरण में अपील करने के लिए कोई फीस नहीं देनी पड़ती _END</td>\n",
              "      <td>13</td>\n",
              "      <td>13</td>\n",
              "    </tr>\n",
              "    <tr>\n",
              "      <th>96955</th>\n",
              "      <td>indic2012</td>\n",
              "      <td>headind kaun banega crorepati</td>\n",
              "      <td>START_ शीर्षक कौन बनेगा करोड़पति kaun banega crorepati _END</td>\n",
              "      <td>4</td>\n",
              "      <td>9</td>\n",
              "    </tr>\n",
              "    <tr>\n",
              "      <th>...</th>\n",
              "      <td>...</td>\n",
              "      <td>...</td>\n",
              "      <td>...</td>\n",
              "      <td>...</td>\n",
              "      <td>...</td>\n",
              "    </tr>\n",
              "    <tr>\n",
              "      <th>75226</th>\n",
              "      <td>indic2012</td>\n",
              "      <td>he left kashi for magahar and he died there only in</td>\n",
              "      <td>START_ काशी छोड़ मगहर चले गये और सन् के आस पास वहीं देह त्याग किया। _END</td>\n",
              "      <td>11</td>\n",
              "      <td>16</td>\n",
              "    </tr>\n",
              "    <tr>\n",
              "      <th>18651</th>\n",
              "      <td>indic2012</td>\n",
              "      <td>pakistan muslim leag</td>\n",
              "      <td>START_ पाकिस्तान मुस्लिम लीग _END</td>\n",
              "      <td>3</td>\n",
              "      <td>5</td>\n",
              "    </tr>\n",
              "    <tr>\n",
              "      <th>35035</th>\n",
              "      <td>tides</td>\n",
              "      <td>minerals minerals such as magnesium copper and zinc are receiving increasing attention from researchers for their effect on heart disease obesity is defined as being about per cent of your ideal body weight as judged from tables provided lrb see appendix rrb</td>\n",
              "      <td>START_ खनिज हृदय रोग पर अपने प्रभाव के लिए मैग़्नीशियम तांबा और जिंक जैसे खनिज अनुसंधानकर्ताओं का लगातार ज़्यादा ध्यान आकर्षित कर रहे हैंशारीरिक भार पर नियंत्रण दी गयी सारणियों परिशिष्ट के आधार पर आपके शरीर के आदर्श भार से प्रतिशत अधिक भार को मोटापा _END</td>\n",
              "      <td>42</td>\n",
              "      <td>46</td>\n",
              "    </tr>\n",
              "    <tr>\n",
              "      <th>105680</th>\n",
              "      <td>ted</td>\n",
              "      <td>and over time we have grown into a network of five hospitals</td>\n",
              "      <td>START_ और धीरेधीरे हम पाँच अस्पतालों के समूह में विकसित हो गये _END</td>\n",
              "      <td>12</td>\n",
              "      <td>13</td>\n",
              "    </tr>\n",
              "    <tr>\n",
              "      <th>18499</th>\n",
              "      <td>ted</td>\n",
              "      <td>ethical dilemma and value conflicts and management research</td>\n",
              "      <td>START_ सामाजिकविज्ञान में निहित मूल्यों की लडाई और नैतिक विरोधाभासों को _END</td>\n",
              "      <td>8</td>\n",
              "      <td>12</td>\n",
              "    </tr>\n",
              "  </tbody>\n",
              "</table>\n",
              "<p>100000 rows × 5 columns</p>\n",
              "</div>\n",
              "      <button class=\"colab-df-convert\" onclick=\"convertToInteractive('df-2fb42f18-ff37-4d6f-acf8-ef657c7dd9c0')\"\n",
              "              title=\"Convert this dataframe to an interactive table.\"\n",
              "              style=\"display:none;\">\n",
              "        \n",
              "  <svg xmlns=\"http://www.w3.org/2000/svg\" height=\"24px\"viewBox=\"0 0 24 24\"\n",
              "       width=\"24px\">\n",
              "    <path d=\"M0 0h24v24H0V0z\" fill=\"none\"/>\n",
              "    <path d=\"M18.56 5.44l.94 2.06.94-2.06 2.06-.94-2.06-.94-.94-2.06-.94 2.06-2.06.94zm-11 1L8.5 8.5l.94-2.06 2.06-.94-2.06-.94L8.5 2.5l-.94 2.06-2.06.94zm10 10l.94 2.06.94-2.06 2.06-.94-2.06-.94-.94-2.06-.94 2.06-2.06.94z\"/><path d=\"M17.41 7.96l-1.37-1.37c-.4-.4-.92-.59-1.43-.59-.52 0-1.04.2-1.43.59L10.3 9.45l-7.72 7.72c-.78.78-.78 2.05 0 2.83L4 21.41c.39.39.9.59 1.41.59.51 0 1.02-.2 1.41-.59l7.78-7.78 2.81-2.81c.8-.78.8-2.07 0-2.86zM5.41 20L4 18.59l7.72-7.72 1.47 1.35L5.41 20z\"/>\n",
              "  </svg>\n",
              "      </button>\n",
              "      \n",
              "  <style>\n",
              "    .colab-df-container {\n",
              "      display:flex;\n",
              "      flex-wrap:wrap;\n",
              "      gap: 12px;\n",
              "    }\n",
              "\n",
              "    .colab-df-convert {\n",
              "      background-color: #E8F0FE;\n",
              "      border: none;\n",
              "      border-radius: 50%;\n",
              "      cursor: pointer;\n",
              "      display: none;\n",
              "      fill: #1967D2;\n",
              "      height: 32px;\n",
              "      padding: 0 0 0 0;\n",
              "      width: 32px;\n",
              "    }\n",
              "\n",
              "    .colab-df-convert:hover {\n",
              "      background-color: #E2EBFA;\n",
              "      box-shadow: 0px 1px 2px rgba(60, 64, 67, 0.3), 0px 1px 3px 1px rgba(60, 64, 67, 0.15);\n",
              "      fill: #174EA6;\n",
              "    }\n",
              "\n",
              "    [theme=dark] .colab-df-convert {\n",
              "      background-color: #3B4455;\n",
              "      fill: #D2E3FC;\n",
              "    }\n",
              "\n",
              "    [theme=dark] .colab-df-convert:hover {\n",
              "      background-color: #434B5C;\n",
              "      box-shadow: 0px 1px 3px 1px rgba(0, 0, 0, 0.15);\n",
              "      filter: drop-shadow(0px 1px 2px rgba(0, 0, 0, 0.3));\n",
              "      fill: #FFFFFF;\n",
              "    }\n",
              "  </style>\n",
              "\n",
              "      <script>\n",
              "        const buttonEl =\n",
              "          document.querySelector('#df-2fb42f18-ff37-4d6f-acf8-ef657c7dd9c0 button.colab-df-convert');\n",
              "        buttonEl.style.display =\n",
              "          google.colab.kernel.accessAllowed ? 'block' : 'none';\n",
              "\n",
              "        async function convertToInteractive(key) {\n",
              "          const element = document.querySelector('#df-2fb42f18-ff37-4d6f-acf8-ef657c7dd9c0');\n",
              "          const dataTable =\n",
              "            await google.colab.kernel.invokeFunction('convertToInteractive',\n",
              "                                                     [key], {});\n",
              "          if (!dataTable) return;\n",
              "\n",
              "          const docLinkHtml = 'Like what you see? Visit the ' +\n",
              "            '<a target=\"_blank\" href=https://colab.research.google.com/notebooks/data_table.ipynb>data table notebook</a>'\n",
              "            + ' to learn more about interactive tables.';\n",
              "          element.innerHTML = '';\n",
              "          dataTable['output_type'] = 'display_data';\n",
              "          await google.colab.output.renderOutput(dataTable, element);\n",
              "          const docLink = document.createElement('div');\n",
              "          docLink.innerHTML = docLinkHtml;\n",
              "          element.appendChild(docLink);\n",
              "        }\n",
              "      </script>\n",
              "    </div>\n",
              "  </div>\n",
              "  "
            ],
            "text/plain": [
              "           source                                                                                                                                                                                                                                                    english_sentence                                                                                                                                                                                                                                                  hindi_sentence  length_eng_sentence  length_hin_sentence\n",
              "3556    tides      he declares the result and reports it to the election commission and to the secretarygeneral of the concerned house                                                                                                                                                 START_ वही परिणाम की घोषणा करता है और निर्वाचन आयोग को और संबद्ध सदन के महासचिव को उसकी सूचना देता है _END                                                                                                                                                      19                   22                 \n",
              "25899   ted        was a little uncomfortable for them                                                                                                                                                                                                                                 START_ थोडा कठिन था। _END                                                                                                                                                                                                                                       6                    5                  \n",
              "90924   tides      a multipurpose auditorium a branch of the state bank of india a large banquet hall private dining rooms and refreshment rooms including a milk bar are also located on the ground floor                                                                             START_ बहुउद्देशीय सभागार भारतीय स्टेट बैंक की शाखा एक विशाल बैंकट हाल प्राइवेट डाइनिंग रूम और जलपान गृह भी जिनमें एक मिल्क बार सम्मिलित है भूमि तल पर उपस्थित हैं _END                                                                                         32                   31                 \n",
              "78213   tides      no fees is to be paid for filing the appeal to this tribunal                                                                                                                                                                                                        START_ अधिकरण में अपील करने के लिए कोई फीस नहीं देनी पड़ती _END                                                                                                                                                                                                 13                   13                 \n",
              "96955   indic2012  headind kaun banega crorepati                                                                                                                                                                                                                                       START_ शीर्षक कौन बनेगा करोड़पति kaun banega crorepati _END                                                                                                                                                                                                     4                    9                  \n",
              "...           ...                            ...                                                                                                                                                                                                                                                                                               ...                                                                                                                                                                                                    ..                   ..                  \n",
              "75226   indic2012  he left kashi for magahar and he died there only in                                                                                                                                                                                                                 START_ काशी छोड़ मगहर चले गये और सन् के आस पास वहीं देह त्याग किया। _END                                                                                                                                                                                        11                   16                 \n",
              "18651   indic2012  pakistan muslim leag                                                                                                                                                                                                                                                START_ पाकिस्तान मुस्लिम लीग _END                                                                                                                                                                                                                               3                    5                  \n",
              "35035   tides      minerals minerals such as magnesium copper and zinc are receiving increasing attention from researchers for their effect on heart disease obesity is defined as being about per cent of your ideal body weight as judged from tables provided lrb see appendix rrb  START_ खनिज हृदय रोग पर अपने प्रभाव के लिए मैग़्नीशियम तांबा और जिंक जैसे खनिज अनुसंधानकर्ताओं का लगातार ज़्यादा ध्यान आकर्षित कर रहे हैंशारीरिक भार पर नियंत्रण दी गयी सारणियों परिशिष्ट के आधार पर आपके शरीर के आदर्श भार से प्रतिशत अधिक भार को मोटापा _END  42                   46                 \n",
              "105680  ted        and over time we have grown into a network of five hospitals                                                                                                                                                                                                        START_ और धीरेधीरे हम पाँच अस्पतालों के समूह में विकसित हो गये _END                                                                                                                                                                                             12                   13                 \n",
              "18499   ted        ethical dilemma and value conflicts and management research                                                                                                                                                                                                         START_ सामाजिकविज्ञान में निहित मूल्यों की लडाई और नैतिक विरोधाभासों को _END                                                                                                                                                                                    8                    12                 \n",
              "\n",
              "[100000 rows x 5 columns]"
            ]
          },
          "metadata": {},
          "execution_count": 19
        }
      ]
    },
    {
      "cell_type": "code",
      "metadata": {
        "id": "LM7EXLVAly-E"
      },
      "source": [
        ""
      ],
      "execution_count": null,
      "outputs": []
    },
    {
      "cell_type": "markdown",
      "metadata": {
        "id": "1QNZ0Rfvl7iv"
      },
      "source": [
        "# The data is still a dataframe"
      ]
    },
    {
      "cell_type": "code",
      "metadata": {
        "colab": {
          "base_uri": "https://localhost:8080/"
        },
        "id": "uS0T_FVmTLN-",
        "outputId": "a05a216a-20e0-410c-8edd-ea5461e7a6ae"
      },
      "source": [
        "lines=lines[lines['length_eng_sentence']<=20]\n",
        "lines=lines[lines['length_hin_sentence']<=20]\n",
        "lines.shape"
      ],
      "execution_count": null,
      "outputs": [
        {
          "output_type": "execute_result",
          "data": {
            "text/plain": [
              "(66853, 5)"
            ]
          },
          "metadata": {},
          "execution_count": 20
        }
      ]
    },
    {
      "cell_type": "code",
      "metadata": {
        "colab": {
          "base_uri": "https://localhost:8080/"
        },
        "id": "0fS1ZVEITQYl",
        "outputId": "2443cc6f-b8c6-4d76-e310-9f318b55d44a"
      },
      "source": [
        "print(\"maximum length of Hindi Sentence \",max(lines['length_hin_sentence']))\n",
        "print(\"maximum length of English Sentence \",max(lines['length_eng_sentence']))"
      ],
      "execution_count": null,
      "outputs": [
        {
          "output_type": "stream",
          "name": "stdout",
          "text": [
            "maximum length of Hindi Sentence  20\n",
            "maximum length of English Sentence  20\n"
          ]
        }
      ]
    },
    {
      "cell_type": "code",
      "metadata": {
        "id": "vk7MZR56TTHG"
      },
      "source": [
        "max_length_src=max(lines['length_hin_sentence'])\n",
        "max_length_tar=max(lines['length_eng_sentence'])"
      ],
      "execution_count": null,
      "outputs": []
    },
    {
      "cell_type": "code",
      "metadata": {
        "colab": {
          "base_uri": "https://localhost:8080/"
        },
        "id": "PcjRVpq5TWmQ",
        "outputId": "5a54d22d-0fdd-4d77-fe3a-9382a7966f7a"
      },
      "source": [
        "input_words = sorted(list(all_eng_words))\n",
        "target_words = sorted(list(all_hindi_words))\n",
        "num_encoder_tokens = len(all_eng_words)\n",
        "num_decoder_tokens = len(all_hindi_words)\n",
        "num_encoder_tokens, num_decoder_tokens"
      ],
      "execution_count": null,
      "outputs": [
        {
          "output_type": "execute_result",
          "data": {
            "text/plain": [
              "(64017, 72923)"
            ]
          },
          "metadata": {},
          "execution_count": 23
        }
      ]
    },
    {
      "cell_type": "code",
      "metadata": {
        "id": "pTBxA9U-TZBH"
      },
      "source": [
        "num_decoder_tokens += 1"
      ],
      "execution_count": null,
      "outputs": []
    },
    {
      "cell_type": "code",
      "metadata": {
        "id": "IqahXgO_TayV"
      },
      "source": [
        "input_token_index = dict([(word, i+1) for i, word in enumerate(input_words)])\n",
        "target_token_index = dict([(word, i+1) for i, word in enumerate(target_words)])"
      ],
      "execution_count": null,
      "outputs": []
    },
    {
      "cell_type": "code",
      "metadata": {
        "id": "xZFbX5cJTcat"
      },
      "source": [
        "reverse_input_char_index = dict((i, word) for word, i in input_token_index.items())\n",
        "reverse_target_char_index = dict((i, word) for word, i in target_token_index.items())"
      ],
      "execution_count": null,
      "outputs": []
    },
    {
      "cell_type": "code",
      "metadata": {
        "colab": {
          "base_uri": "https://localhost:8080/",
          "height": 589
        },
        "id": "bneHLapdTd51",
        "outputId": "b526a260-5693-4187-aba9-7a5f94d6fe94"
      },
      "source": [
        "lines = shuffle(lines)\n",
        "lines"
      ],
      "execution_count": null,
      "outputs": [
        {
          "output_type": "execute_result",
          "data": {
            "text/html": [
              "\n",
              "  <div id=\"df-9532f23f-a630-4f90-849e-f74ffbcbf627\">\n",
              "    <div class=\"colab-df-container\">\n",
              "      <div>\n",
              "<style scoped>\n",
              "    .dataframe tbody tr th:only-of-type {\n",
              "        vertical-align: middle;\n",
              "    }\n",
              "\n",
              "    .dataframe tbody tr th {\n",
              "        vertical-align: top;\n",
              "    }\n",
              "\n",
              "    .dataframe thead th {\n",
              "        text-align: right;\n",
              "    }\n",
              "</style>\n",
              "<table border=\"1\" class=\"dataframe\">\n",
              "  <thead>\n",
              "    <tr style=\"text-align: right;\">\n",
              "      <th></th>\n",
              "      <th>source</th>\n",
              "      <th>english_sentence</th>\n",
              "      <th>hindi_sentence</th>\n",
              "      <th>length_eng_sentence</th>\n",
              "      <th>length_hin_sentence</th>\n",
              "    </tr>\n",
              "  </thead>\n",
              "  <tbody>\n",
              "    <tr>\n",
              "      <th>37863</th>\n",
              "      <td>ted</td>\n",
              "      <td>it seems that with or without us</td>\n",
              "      <td>START_ हमारे साथ या हमारे बिना भी _END</td>\n",
              "      <td>7</td>\n",
              "      <td>8</td>\n",
              "    </tr>\n",
              "    <tr>\n",
              "      <th>83895</th>\n",
              "      <td>tides</td>\n",
              "      <td>getting help</td>\n",
              "      <td>START_ सहायता प्राप्त करना _END</td>\n",
              "      <td>2</td>\n",
              "      <td>5</td>\n",
              "    </tr>\n",
              "    <tr>\n",
              "      <th>46957</th>\n",
              "      <td>ted</td>\n",
              "      <td>so that their children too can live those lives of great purpose</td>\n",
              "      <td>START_ जिससे कि उनके बच्चे भी किसी उद्देश्य या प्रयोजन से भरा जीवन जी सकें। _END</td>\n",
              "      <td>12</td>\n",
              "      <td>16</td>\n",
              "    </tr>\n",
              "    <tr>\n",
              "      <th>60041</th>\n",
              "      <td>ted</td>\n",
              "      <td>so im excited about how i can bring the technology to the masses</td>\n",
              "      <td>START_ तो मैं बहुत उत्सुक हूँ कि कैसे मैं इस तकनीक को आम लोगों तक पहुँचा सकूँ _END</td>\n",
              "      <td>13</td>\n",
              "      <td>18</td>\n",
              "    </tr>\n",
              "    <tr>\n",
              "      <th>120175</th>\n",
              "      <td>tides</td>\n",
              "      <td>the sudra is like a servant to the brahman taking care of his affairs and serving him</td>\n",
              "      <td>START_ शूद्र ब्राह्मण के सेवकजैसा होता है जो उसके कामकाज की देखभाल और उसकी सेवा करता है _END</td>\n",
              "      <td>17</td>\n",
              "      <td>18</td>\n",
              "    </tr>\n",
              "    <tr>\n",
              "      <th>...</th>\n",
              "      <td>...</td>\n",
              "      <td>...</td>\n",
              "      <td>...</td>\n",
              "      <td>...</td>\n",
              "      <td>...</td>\n",
              "    </tr>\n",
              "    <tr>\n",
              "      <th>71869</th>\n",
              "      <td>tides</td>\n",
              "      <td>i have always been acting independently without having cared for your approval or disapproval ”</td>\n",
              "      <td>START_ मैं आपकी सहमति या असहमति के बिना यहां स्वतंत्रतापूर्वक काम करता रहा हूं ” _END</td>\n",
              "      <td>15</td>\n",
              "      <td>16</td>\n",
              "    </tr>\n",
              "    <tr>\n",
              "      <th>63342</th>\n",
              "      <td>ted</td>\n",
              "      <td>but what makes voodoo so interesting</td>\n",
              "      <td>START_ लेकिन क्या चीज जादूटोने को इतना रूचिकारक बनाती है _END</td>\n",
              "      <td>6</td>\n",
              "      <td>11</td>\n",
              "    </tr>\n",
              "    <tr>\n",
              "      <th>29935</th>\n",
              "      <td>indic2012</td>\n",
              "      <td>listen here</td>\n",
              "      <td>START_ यहां सुनियेः _END</td>\n",
              "      <td>2</td>\n",
              "      <td>4</td>\n",
              "    </tr>\n",
              "    <tr>\n",
              "      <th>111449</th>\n",
              "      <td>indic2012</td>\n",
              "      <td>long time prevalent belief of its purification has scientific proof</td>\n",
              "      <td>START_ लंबे समय से प्रचलित इसकी शुद्धीकरण की मान्यता का वैज्ञानिक आधार भी है। _END</td>\n",
              "      <td>10</td>\n",
              "      <td>15</td>\n",
              "    </tr>\n",
              "    <tr>\n",
              "      <th>14774</th>\n",
              "      <td>ted</td>\n",
              "      <td>and these social entrepreneurs</td>\n",
              "      <td>START_ और ये सामाजिक उद्यमी _END</td>\n",
              "      <td>4</td>\n",
              "      <td>6</td>\n",
              "    </tr>\n",
              "  </tbody>\n",
              "</table>\n",
              "<p>66853 rows × 5 columns</p>\n",
              "</div>\n",
              "      <button class=\"colab-df-convert\" onclick=\"convertToInteractive('df-9532f23f-a630-4f90-849e-f74ffbcbf627')\"\n",
              "              title=\"Convert this dataframe to an interactive table.\"\n",
              "              style=\"display:none;\">\n",
              "        \n",
              "  <svg xmlns=\"http://www.w3.org/2000/svg\" height=\"24px\"viewBox=\"0 0 24 24\"\n",
              "       width=\"24px\">\n",
              "    <path d=\"M0 0h24v24H0V0z\" fill=\"none\"/>\n",
              "    <path d=\"M18.56 5.44l.94 2.06.94-2.06 2.06-.94-2.06-.94-.94-2.06-.94 2.06-2.06.94zm-11 1L8.5 8.5l.94-2.06 2.06-.94-2.06-.94L8.5 2.5l-.94 2.06-2.06.94zm10 10l.94 2.06.94-2.06 2.06-.94-2.06-.94-.94-2.06-.94 2.06-2.06.94z\"/><path d=\"M17.41 7.96l-1.37-1.37c-.4-.4-.92-.59-1.43-.59-.52 0-1.04.2-1.43.59L10.3 9.45l-7.72 7.72c-.78.78-.78 2.05 0 2.83L4 21.41c.39.39.9.59 1.41.59.51 0 1.02-.2 1.41-.59l7.78-7.78 2.81-2.81c.8-.78.8-2.07 0-2.86zM5.41 20L4 18.59l7.72-7.72 1.47 1.35L5.41 20z\"/>\n",
              "  </svg>\n",
              "      </button>\n",
              "      \n",
              "  <style>\n",
              "    .colab-df-container {\n",
              "      display:flex;\n",
              "      flex-wrap:wrap;\n",
              "      gap: 12px;\n",
              "    }\n",
              "\n",
              "    .colab-df-convert {\n",
              "      background-color: #E8F0FE;\n",
              "      border: none;\n",
              "      border-radius: 50%;\n",
              "      cursor: pointer;\n",
              "      display: none;\n",
              "      fill: #1967D2;\n",
              "      height: 32px;\n",
              "      padding: 0 0 0 0;\n",
              "      width: 32px;\n",
              "    }\n",
              "\n",
              "    .colab-df-convert:hover {\n",
              "      background-color: #E2EBFA;\n",
              "      box-shadow: 0px 1px 2px rgba(60, 64, 67, 0.3), 0px 1px 3px 1px rgba(60, 64, 67, 0.15);\n",
              "      fill: #174EA6;\n",
              "    }\n",
              "\n",
              "    [theme=dark] .colab-df-convert {\n",
              "      background-color: #3B4455;\n",
              "      fill: #D2E3FC;\n",
              "    }\n",
              "\n",
              "    [theme=dark] .colab-df-convert:hover {\n",
              "      background-color: #434B5C;\n",
              "      box-shadow: 0px 1px 3px 1px rgba(0, 0, 0, 0.15);\n",
              "      filter: drop-shadow(0px 1px 2px rgba(0, 0, 0, 0.3));\n",
              "      fill: #FFFFFF;\n",
              "    }\n",
              "  </style>\n",
              "\n",
              "      <script>\n",
              "        const buttonEl =\n",
              "          document.querySelector('#df-9532f23f-a630-4f90-849e-f74ffbcbf627 button.colab-df-convert');\n",
              "        buttonEl.style.display =\n",
              "          google.colab.kernel.accessAllowed ? 'block' : 'none';\n",
              "\n",
              "        async function convertToInteractive(key) {\n",
              "          const element = document.querySelector('#df-9532f23f-a630-4f90-849e-f74ffbcbf627');\n",
              "          const dataTable =\n",
              "            await google.colab.kernel.invokeFunction('convertToInteractive',\n",
              "                                                     [key], {});\n",
              "          if (!dataTable) return;\n",
              "\n",
              "          const docLinkHtml = 'Like what you see? Visit the ' +\n",
              "            '<a target=\"_blank\" href=https://colab.research.google.com/notebooks/data_table.ipynb>data table notebook</a>'\n",
              "            + ' to learn more about interactive tables.';\n",
              "          element.innerHTML = '';\n",
              "          dataTable['output_type'] = 'display_data';\n",
              "          await google.colab.output.renderOutput(dataTable, element);\n",
              "          const docLink = document.createElement('div');\n",
              "          docLink.innerHTML = docLinkHtml;\n",
              "          element.appendChild(docLink);\n",
              "        }\n",
              "      </script>\n",
              "    </div>\n",
              "  </div>\n",
              "  "
            ],
            "text/plain": [
              "           source                                                                                 english_sentence                                                                                hindi_sentence  length_eng_sentence  length_hin_sentence\n",
              "37863   ted        it seems that with or without us                                                                 START_ हमारे साथ या हमारे बिना भी _END                                                        7                    8                  \n",
              "83895   tides      getting help                                                                                     START_ सहायता प्राप्त करना _END                                                               2                    5                  \n",
              "46957   ted        so that their children too can live those lives of great purpose                                 START_ जिससे कि उनके बच्चे भी किसी उद्देश्य या प्रयोजन से भरा जीवन जी सकें। _END              12                   16                 \n",
              "60041   ted        so im excited about how i can bring the technology to the masses                                 START_ तो मैं बहुत उत्सुक हूँ कि कैसे मैं इस तकनीक को आम लोगों तक पहुँचा सकूँ _END            13                   18                 \n",
              "120175  tides      the sudra is like a servant to the brahman taking care of his affairs and serving him            START_ शूद्र ब्राह्मण के सेवकजैसा होता है जो उसके कामकाज की देखभाल और उसकी सेवा करता है _END  17                   18                 \n",
              "...       ...                                                                                        ...                                                                                                     ...  ..                   ..                 \n",
              "71869   tides      i have always been acting independently without having cared for your approval or disapproval ”  START_ मैं आपकी सहमति या असहमति के बिना यहां स्वतंत्रतापूर्वक काम करता रहा हूं ” _END         15                   16                 \n",
              "63342   ted        but what makes voodoo so interesting                                                             START_ लेकिन क्या चीज जादूटोने को इतना रूचिकारक बनाती है _END                                 6                    11                 \n",
              "29935   indic2012  listen here                                                                                      START_ यहां सुनियेः _END                                                                      2                    4                  \n",
              "111449  indic2012  long time prevalent belief of its purification has scientific proof                              START_ लंबे समय से प्रचलित इसकी शुद्धीकरण की मान्यता का वैज्ञानिक आधार भी है। _END            10                   15                 \n",
              "14774   ted        and these social entrepreneurs                                                                   START_ और ये सामाजिक उद्यमी _END                                                              4                    6                  \n",
              "\n",
              "[66853 rows x 5 columns]"
            ]
          },
          "metadata": {},
          "execution_count": 27
        }
      ]
    },
    {
      "cell_type": "code",
      "metadata": {
        "colab": {
          "base_uri": "https://localhost:8080/"
        },
        "id": "KvRb-sCZThYG",
        "outputId": "9959379b-1a53-4434-a226-75bce7bd97af"
      },
      "source": [
        "X, y = lines['english_sentence'], lines['hindi_sentence']\n",
        "X_train, X_test, y_train, y_test = train_test_split(X, y, test_size = 0.02,random_state=42)\n",
        "X_train.shape, X_test.shape"
      ],
      "execution_count": null,
      "outputs": [
        {
          "output_type": "execute_result",
          "data": {
            "text/plain": [
              "((65515,), (1338,))"
            ]
          },
          "metadata": {},
          "execution_count": 28
        }
      ]
    },
    {
      "cell_type": "code",
      "metadata": {
        "id": "qBKyyHGNTrm-"
      },
      "source": [
        "X_train.to_pickle('X_train.pkl')\n",
        "X_test.to_pickle('X_test.pkl')"
      ],
      "execution_count": null,
      "outputs": []
    },
    {
      "cell_type": "code",
      "metadata": {
        "colab": {
          "base_uri": "https://localhost:8080/"
        },
        "id": "dO16PAX7TyCV",
        "outputId": "723e4907-033b-4880-ff74-b4ca9b8148a8"
      },
      "source": [
        "!ls"
      ],
      "execution_count": null,
      "outputs": [
        {
          "output_type": "stream",
          "name": "stdout",
          "text": [
            "drive  sample_data  X_test.pkl\tX_train.pkl\n"
          ]
        }
      ]
    },
    {
      "cell_type": "code",
      "metadata": {
        "id": "QfQn23qSTzhm",
        "colab": {
          "base_uri": "https://localhost:8080/",
          "height": 36
        },
        "outputId": "96b2244f-94d2-44e3-dc9f-9cbc1d5ac653"
      },
      "source": [
        "\"\"\"!mv /content/X_test.pkl /content/drive/MyDrive/hindi_english\n",
        "!mv /content/X_train.pkl /content/drive/MyDrive/hindi_english\"\"\""
      ],
      "execution_count": null,
      "outputs": [
        {
          "output_type": "execute_result",
          "data": {
            "application/vnd.google.colaboratory.intrinsic+json": {
              "type": "string"
            },
            "text/plain": [
              "'!mv /content/X_test.pkl /content/drive/MyDrive/hindi_english\\n!mv /content/X_train.pkl /content/drive/MyDrive/hindi_english'"
            ]
          },
          "metadata": {},
          "execution_count": 31
        }
      ]
    },
    {
      "cell_type": "code",
      "metadata": {
        "id": "__mm8lMYUET1"
      },
      "source": [
        "def generate_batch(X = X_train, y = y_train, batch_size = 128):\n",
        "    while True:\n",
        "        for j in range(0, len(X), batch_size):\n",
        "            encoder_input_data = np.zeros((batch_size, max_length_src),dtype='float32')\n",
        "            decoder_input_data = np.zeros((batch_size, max_length_tar),dtype='float32')\n",
        "            decoder_target_data = np.zeros((batch_size, max_length_tar, num_decoder_tokens),dtype='float32')\n",
        "            for i, (input_text, target_text) in enumerate(zip(X[j:j+batch_size], y[j:j+batch_size])):\n",
        "                for t, word in enumerate(input_text.split()):\n",
        "                    encoder_input_data[i, t] = input_token_index[word]\n",
        "                for t, word in enumerate(target_text.split()):\n",
        "                    if t<len(target_text.split())-1:\n",
        "                        decoder_input_data[i, t] = target_token_index[word] \n",
        "                    if t>0:\n",
        "                        \n",
        "                        decoder_target_data[i, t - 1, target_token_index[word]] = 1.\n",
        "            yield([encoder_input_data, decoder_input_data], decoder_target_data)"
      ],
      "execution_count": null,
      "outputs": []
    },
    {
      "cell_type": "code",
      "metadata": {
        "id": "8lOWgkrsUHDW"
      },
      "source": [
        "latent_dim=300"
      ],
      "execution_count": null,
      "outputs": []
    },
    {
      "cell_type": "code",
      "metadata": {
        "id": "sd2dNLx3ULul"
      },
      "source": [
        "encoder_inputs = Input(shape=(None,))\n",
        "enc_emb =  Embedding(num_encoder_tokens, latent_dim, mask_zero = True)(encoder_inputs)\n",
        "encoder_lstm = LSTM(latent_dim, return_state=True)\n",
        "encoder_outputs, state_h, state_c = encoder_lstm(enc_emb)\n",
        "encoder_states = [state_h, state_c]"
      ],
      "execution_count": null,
      "outputs": []
    },
    {
      "cell_type": "code",
      "metadata": {
        "id": "sn0U83p1UVUf"
      },
      "source": [
        "decoder_inputs = Input(shape=(None,))\n",
        "dec_emb_layer = Embedding(num_decoder_tokens, latent_dim, mask_zero = True)\n",
        "dec_emb = dec_emb_layer(decoder_inputs)\n",
        "decoder_lstm = LSTM(latent_dim, return_sequences=True, return_state=True)\n",
        "decoder_outputs, _, _ = decoder_lstm(dec_emb,\n",
        "                                     initial_state=encoder_states)\n",
        "decoder_dense = Dense(num_decoder_tokens, activation='softmax')\n",
        "decoder_outputs = decoder_dense(decoder_outputs)\n",
        "model = Model([encoder_inputs, decoder_inputs], decoder_outputs)"
      ],
      "execution_count": null,
      "outputs": []
    },
    {
      "cell_type": "code",
      "metadata": {
        "id": "eheOwWBxUduV"
      },
      "source": [
        "model.compile(optimizer='adam', loss='categorical_crossentropy')"
      ],
      "execution_count": null,
      "outputs": []
    },
    {
      "cell_type": "code",
      "metadata": {
        "colab": {
          "base_uri": "https://localhost:8080/"
        },
        "id": "k0S0f4xGUgL-",
        "outputId": "ce41e266-dfb2-4f8e-f7a5-09c38b761e0d"
      },
      "source": [
        "model.summary()"
      ],
      "execution_count": null,
      "outputs": [
        {
          "output_type": "stream",
          "name": "stdout",
          "text": [
            "Model: \"model\"\n",
            "__________________________________________________________________________________________________\n",
            " Layer (type)                   Output Shape         Param #     Connected to                     \n",
            "==================================================================================================\n",
            " input_1 (InputLayer)           [(None, None)]       0           []                               \n",
            "                                                                                                  \n",
            " input_2 (InputLayer)           [(None, None)]       0           []                               \n",
            "                                                                                                  \n",
            " embedding (Embedding)          (None, None, 300)    19205100    ['input_1[0][0]']                \n",
            "                                                                                                  \n",
            " embedding_1 (Embedding)        (None, None, 300)    21877200    ['input_2[0][0]']                \n",
            "                                                                                                  \n",
            " lstm (LSTM)                    [(None, 300),        721200      ['embedding[0][0]']              \n",
            "                                 (None, 300),                                                     \n",
            "                                 (None, 300)]                                                     \n",
            "                                                                                                  \n",
            " lstm_1 (LSTM)                  [(None, None, 300),  721200      ['embedding_1[0][0]',            \n",
            "                                 (None, 300),                     'lstm[0][1]',                   \n",
            "                                 (None, 300)]                     'lstm[0][2]']                   \n",
            "                                                                                                  \n",
            " dense (Dense)                  (None, None, 72924)  21950124    ['lstm_1[0][0]']                 \n",
            "                                                                                                  \n",
            "==================================================================================================\n",
            "Total params: 64,474,824\n",
            "Trainable params: 64,474,824\n",
            "Non-trainable params: 0\n",
            "__________________________________________________________________________________________________\n"
          ]
        }
      ]
    },
    {
      "cell_type": "code",
      "metadata": {
        "id": "yAQWgZORUhUF"
      },
      "source": [
        "train_samples = len(X_train)\n",
        "val_samples = len(X_test)\n",
        "batch_size = 128\n",
        "epochs = 50"
      ],
      "execution_count": null,
      "outputs": []
    },
    {
      "cell_type": "code",
      "metadata": {
        "colab": {
          "base_uri": "https://localhost:8080/"
        },
        "id": "DSqKiLN4WOb2",
        "outputId": "089785d2-dfae-42f6-e5fb-a4d4c3154f48"
      },
      "source": [
        "from tensorflow.python.client import device_lib\n",
        "print(device_lib.list_local_devices())"
      ],
      "execution_count": null,
      "outputs": [
        {
          "output_type": "stream",
          "name": "stdout",
          "text": [
            "[name: \"/device:CPU:0\"\n",
            "device_type: \"CPU\"\n",
            "memory_limit: 268435456\n",
            "locality {\n",
            "}\n",
            "incarnation: 6143160741040657336\n",
            "xla_global_id: -1\n",
            ", name: \"/device:GPU:0\"\n",
            "device_type: \"GPU\"\n",
            "memory_limit: 11320098816\n",
            "locality {\n",
            "  bus_id: 1\n",
            "  links {\n",
            "  }\n",
            "}\n",
            "incarnation: 746305218794097920\n",
            "physical_device_desc: \"device: 0, name: Tesla K80, pci bus id: 0000:00:04.0, compute capability: 3.7\"\n",
            "xla_global_id: 416903419\n",
            "]\n"
          ]
        }
      ]
    },
    {
      "cell_type": "code",
      "source": [
        "!cd  /content/drive/MyDrive/hindi_english"
      ],
      "metadata": {
        "id": "6hBVaLQWpVLb"
      },
      "execution_count": null,
      "outputs": []
    },
    {
      "cell_type": "code",
      "source": [
        ""
      ],
      "metadata": {
        "id": "dE3xaGU99WkV"
      },
      "execution_count": null,
      "outputs": []
    },
    {
      "cell_type": "code",
      "metadata": {
        "colab": {
          "base_uri": "https://localhost:8080/",
          "height": 127
        },
        "id": "1OqU6-QMUt4V",
        "outputId": "443687ce-3c16-422f-cf9f-ccff2ac8cb96"
      },
      "source": [
        "\"\"\"from keras.callbacks import EarlyStopping, ModelCheckpoint\n",
        "!cd /content/drive/MyDrive/hindi_english\n",
        "early_stop = EarlyStopping(monitor='loss', min_delta=0.001, patience=3, mode='min', verbose=1)\n",
        "checkpoint = ModelCheckpoint('model_best_weights.h5', monitor='loss', verbose=1, save_best_only=True, mode='min', period=1)\n",
        "model.fit_generator(generator = generate_batch(X_train, y_train, batch_size = batch_size),\n",
        "                    steps_per_epoch = train_samples//batch_size,\n",
        "                    epochs=epochs, callbacks = [early_stop,checkpoint],\n",
        "                    validation_data = generate_batch(X_test, y_test, batch_size = batch_size),\n",
        "                    validation_steps = val_samples//batch_size,)\"\"\""
      ],
      "execution_count": null,
      "outputs": [
        {
          "output_type": "execute_result",
          "data": {
            "application/vnd.google.colaboratory.intrinsic+json": {
              "type": "string"
            },
            "text/plain": [
              "\"from keras.callbacks import EarlyStopping, ModelCheckpoint\\n!cd /content/drive/MyDrive/hindi_english\\nearly_stop = EarlyStopping(monitor='loss', min_delta=0.001, patience=3, mode='min', verbose=1)\\ncheckpoint = ModelCheckpoint('model_best_weights.h5', monitor='loss', verbose=1, save_best_only=True, mode='min', period=1)\\nmodel.fit_generator(generator = generate_batch(X_train, y_train, batch_size = batch_size),\\n                    steps_per_epoch = train_samples//batch_size,\\n                    epochs=epochs, callbacks = [early_stop,checkpoint],\\n                    validation_data = generate_batch(X_test, y_test, batch_size = batch_size),\\n                    validation_steps = val_samples//batch_size,)\""
            ]
          },
          "metadata": {},
          "execution_count": 41
        }
      ]
    },
    {
      "cell_type": "code",
      "metadata": {
        "id": "ooUmxfY8UvlN",
        "colab": {
          "base_uri": "https://localhost:8080/",
          "height": 54
        },
        "outputId": "5b112327-0152-4afd-cc94-bb38bbacbb10"
      },
      "source": [
        "\"\"\"model.save_weights('/content/drive/MyDrive/hindi_english/model_best_weights.h5')\n",
        "!mv /content/nmt_weights.h5 /content/drive/MyDrive/hindi_english\n",
        "!mv /content/model_best_weights.h5 /content/drive/MyDrive/hindi_english\"\"\""
      ],
      "execution_count": null,
      "outputs": [
        {
          "output_type": "execute_result",
          "data": {
            "application/vnd.google.colaboratory.intrinsic+json": {
              "type": "string"
            },
            "text/plain": [
              "\"model.save_weights('/content/drive/MyDrive/hindi_english/model_best_weights.h5')\\n!mv /content/nmt_weights.h5 /content/drive/MyDrive/hindi_english\\n!mv /content/model_best_weights.h5 /content/drive/MyDrive/hindi_english\""
            ]
          },
          "metadata": {},
          "execution_count": 42
        }
      ]
    },
    {
      "cell_type": "code",
      "source": [
        "model.load_weights(\"/content/drive/MyDrive/hindi_english/model_best_weights.h5\")"
      ],
      "metadata": {
        "id": "6i5HGosY8U5c"
      },
      "execution_count": null,
      "outputs": []
    },
    {
      "cell_type": "code",
      "metadata": {
        "id": "G1nEEdqCU4uN"
      },
      "source": [
        "encoder_model = Model(encoder_inputs, encoder_states)\n",
        "\n",
        "# Decoder setup\n",
        "# Below tensors will hold the states of the previous time step\n",
        "decoder_state_input_h = Input(shape=(latent_dim,))\n",
        "decoder_state_input_c = Input(shape=(latent_dim,))\n",
        "decoder_states_inputs = [decoder_state_input_h, decoder_state_input_c]\n",
        "\n",
        "dec_emb2= dec_emb_layer(decoder_inputs) # Get the embeddings of the decoder sequence\n",
        "\n",
        "# To predict the next word in the sequence, set the initial states to the states from the previous time step\n",
        "decoder_outputs2, state_h2, state_c2 = decoder_lstm(dec_emb2, initial_state=decoder_states_inputs)\n",
        "decoder_states2 = [state_h2, state_c2]\n",
        "decoder_outputs2 = decoder_dense(decoder_outputs2) # A dense softmax layer to generate prob dist. over the target vocabulary\n",
        "\n",
        "# Final decoder model\n",
        "decoder_model = Model(\n",
        "    [decoder_inputs] + decoder_states_inputs,\n",
        "    [decoder_outputs2] + decoder_states2)\n",
        "\n",
        "def decode_sequence(input_seq):\n",
        "    # Encode the input as state vectors.\n",
        "    states_value = encoder_model.predict(input_seq)\n",
        "    # Generate empty target sequence of length 1.\n",
        "    target_seq = np.zeros((1,1))\n",
        "    # Populate the first character of target sequence with the start character.\n",
        "    target_seq[0, 0] = target_token_index['START_']\n",
        "\n",
        "    # Sampling loop for a batch of sequences\n",
        "    # (to simplify, here we assume a batch of size 1).\n",
        "    stop_condition = False\n",
        "    decoded_sentence = ''\n",
        "    while not stop_condition:\n",
        "        output_tokens, h, c = decoder_model.predict([target_seq] + states_value)\n",
        "\n",
        "        # Sample a token\n",
        "        sampled_token_index = np.argmax(output_tokens[0, -1, :])\n",
        "        sampled_char = reverse_target_char_index[sampled_token_index]\n",
        "        decoded_sentence += ' '+sampled_char\n",
        "\n",
        "        # Exit condition: either hit max length\n",
        "        # or find stop character.\n",
        "        if (sampled_char == '_END' or\n",
        "           len(decoded_sentence) > 50):\n",
        "            stop_condition = True\n",
        "\n",
        "        # Update the target sequence (of length 1).\n",
        "        target_seq = np.zeros((1,1))\n",
        "        target_seq[0, 0] = sampled_token_index\n",
        "\n",
        "        # Update states\n",
        "        states_value = [h, c]\n",
        "\n",
        "    return decoded_sentence\n",
        "\n"
      ],
      "execution_count": null,
      "outputs": []
    },
    {
      "cell_type": "code",
      "source": [
        "\n",
        "\n",
        "train_gen = generate_batch(X_train, y_train, batch_size = 1)\n",
        "k=-1\n",
        "\n"
      ],
      "metadata": {
        "id": "PutkAhDQkdoM"
      },
      "execution_count": null,
      "outputs": []
    },
    {
      "cell_type": "code",
      "source": [
        "k+=1\n",
        "(input_seq, actual_output), _ = next(train_gen)\n",
        "decoded_sentence = decode_sequence(input_seq)\n",
        "print('Input English sentence:', X_train[k:k+1].values[0])\n",
        "print('Actual Hindi Translation:', y_train[k:k+1].values[0][6:-4])\n",
        "print('Predicted Hindi Translation:', decoded_sentence[:-4])"
      ],
      "metadata": {
        "id": "ILoUaTMykgVb",
        "colab": {
          "base_uri": "https://localhost:8080/"
        },
        "outputId": "6a9fc275-dcb3-43cd-e46a-c80d0d60b9bd"
      },
      "execution_count": null,
      "outputs": [
        {
          "output_type": "stream",
          "name": "stdout",
          "text": [
            "Input English sentence: because you see the greeks believed\n",
            "Actual Hindi Translation:  देखिय ग्रीक ये मानते थे \n",
            "Predicted Hindi Translation:  देखिय ग्रीक ये मानते थे \n"
          ]
        }
      ]
    },
    {
      "cell_type": "code",
      "source": [
        ""
      ],
      "metadata": {
        "id": "OEEPSoFZ-WyY"
      },
      "execution_count": null,
      "outputs": []
    }
  ]
}